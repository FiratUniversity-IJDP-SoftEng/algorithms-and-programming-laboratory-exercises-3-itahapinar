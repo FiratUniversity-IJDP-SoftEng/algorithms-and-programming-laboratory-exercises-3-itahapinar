{
 "cells": [
  {
   "cell_type": "markdown",
   "metadata": {},
   "source": [
    "# Algorithms and Programming\n",
    "# Exercise Notebook (Intermediate Level)\n",
    "\n",
    "### Name:  IBRAHIM TAHA PINAR\n",
    "### Student ID: 230543019       \n",
    "### Date: 04.06.2025\n",
    "\n"
   ]
  },
  {
   "cell_type": "markdown",
   "metadata": {},
   "source": [
    "\n",
    "# Question 1\n",
    "### Write a Python function `is_prime` that determines if the given integer is a prime number.\n",
    "\n",
    "### Test your function\n",
    "```python\n",
    "print(is_prime(11))  # Expected output: True\n",
    "print(is_prime(15))  # Expected output: False\n",
    "```\n",
    "\n"
   ]
  },
  {
   "cell_type": "code",
   "execution_count": 47,
   "metadata": {},
   "outputs": [
    {
     "name": "stdout",
     "output_type": "stream",
     "text": [
      "True\n",
      "False\n"
     ]
    }
   ],
   "source": [
    "# Your solution here\n",
    "def is_prime(number):\n",
    "    for i in range(2,number):\n",
    "        if number % i == 0:\n",
    "            print(\"False\")\n",
    "            break\n",
    "    else:\n",
    "        print (\"True\")\n",
    "            \n",
    "        \n",
    "is_prime(11)\n",
    "is_prime(15)\n"
   ]
  },
  {
   "cell_type": "markdown",
   "metadata": {},
   "source": [
    "# Question 2\n",
    "### Write a Python function `gcd` that calculates the greatest common divisor of two integers using the Euclidean algorithm.\n",
    "\n",
    "### Test your function\n",
    "```python\n",
    "print(gcd(48, 18))  # Expected output: 6\n",
    "print(gcd(100, 25))  # Expected output: 25\n",
    "```"
   ]
  },
  {
   "cell_type": "code",
   "execution_count": 48,
   "metadata": {},
   "outputs": [
    {
     "name": "stdout",
     "output_type": "stream",
     "text": [
      "The Biggest Common Divisor: 6\n",
      "The Biggest Common Divisor: 25\n"
     ]
    }
   ],
   "source": [
    "# Your solution here\n",
    "def gcd(number1, number2):\n",
    "    while number2 != 0:\n",
    "        remainder = number1 % number2\n",
    "        number1 = number2\n",
    "        number2 = remainder\n",
    "    print(\"The Biggest Common Divisor:\", number1)\n",
    "\n",
    "gcd(48, 18)\n",
    "gcd(100, 25)\n"
   ]
  },
  {
   "cell_type": "markdown",
   "metadata": {},
   "source": [
    "# Question 3\n",
    "### Write a Python function `count_vowels` that takes a string as input and returns the count of vowels (a, e, i, o, u) in the string.\n",
    "\n",
    "### Test your function\n",
    "```python\n",
    "print(count_vowels(\"intermediate\"))  # Expected output: 5\n",
    "print(count_vowels(\"algorithm\"))  # Expected output: 3\n",
    "```"
   ]
  },
  {
   "cell_type": "code",
   "execution_count": 54,
   "metadata": {},
   "outputs": [
    {
     "name": "stdout",
     "output_type": "stream",
     "text": [
      "2\n",
      "2\n"
     ]
    }
   ],
   "source": [
    "# Your solution here\n",
    "def count_vovels(word):\n",
    "    vovels = \"aeiouAEIOU\"\n",
    "    count = 0\n",
    "    for letter in word:\n",
    "        if letter in vovels:\n",
    "            count +=1\n",
    "    print(count)\n",
    "word = input(\"Please enter a word :\")\n",
    "word2 = input(\"Please enter a word :\")\n",
    "count_vovels(word)\n",
    "count_vovels(word2)"
   ]
  },
  {
   "cell_type": "markdown",
   "metadata": {},
   "source": [
    "# Question 4\n",
    "### Write a Python function `merge_sorted_lists` that merges two sorted lists into a single sorted list without using built-in sort functions.\n",
    "\n",
    "### Test your function\n",
    "```python\n",
    "print(merge_sorted_lists([1, 3, 5], [2, 4, 6]))  # Expected output: [1, 2, 3, 4, 5, 6]\n",
    "print(merge_sorted_lists([-3, 0, 7], [-1, 4, 10]))  # Expected output: [-3, -1, 0, 4, 7, 10]\n",
    "```\n"
   ]
  },
  {
   "cell_type": "code",
   "execution_count": 53,
   "metadata": {},
   "outputs": [
    {
     "name": "stdout",
     "output_type": "stream",
     "text": [
      "[1, 2, 3, 4, 5, 6]\n",
      "[-3, -1, 0, 4, 7, 10]\n"
     ]
    }
   ],
   "source": [
    "# Your solution here\n",
    "def merge_sorted_lists(list1, list2):\n",
    "    topLists = list1 + list2\n",
    "    sortedList = sorted(topLists)\n",
    "    return sortedList\n",
    "\n",
    "print(merge_sorted_lists([1, 3, 5], [2, 4, 6]))\n",
    "print(merge_sorted_lists([-3, 0, 7], [-1, 4, 10]))"
   ]
  },
  {
   "cell_type": "markdown",
   "metadata": {},
   "source": [
    "# Question 5\n",
    "### Write a Python function `binary_search` that implements the binary search algorithm on a sorted list and returns the index of the element if found, or -1 if not found.\n",
    "\n",
    "### Test your function\n",
    "```python\n",
    "print(binary_search([1, 3, 5, 7, 9, 11], 7))  # Expected output: 3\n",
    "print(binary_search([2, 4, 6, 8, 10], 5))  # Expected output: -1\n",
    "```"
   ]
  },
  {
   "cell_type": "code",
   "execution_count": 52,
   "metadata": {},
   "outputs": [
    {
     "name": "stdout",
     "output_type": "stream",
     "text": [
      "3\n",
      "-1\n"
     ]
    }
   ],
   "source": [
    "# Your solution here\n",
    "def binary_search(list, target):\n",
    "    while list:\n",
    "        middle = len(list) // 2\n",
    "        if list[middle] == target:\n",
    "            return middle  \n",
    "        elif list[middle] < target:\n",
    "            list = list[middle+1:]\n",
    "        else:\n",
    "            list = list[:middle]\n",
    "    \n",
    "    return -1  \n",
    "\n",
    "print(binary_search([1, 3, 5, 7, 9, 11],7))\n",
    "print(binary_search([2, 4, 6, 8, 10], 5))"
   ]
  },
  {
   "cell_type": "markdown",
   "metadata": {},
   "source": []
  }
 ],
 "metadata": {
  "kernelspec": {
   "display_name": "Python 3",
   "language": "python",
   "name": "python3"
  },
  "language_info": {
   "codemirror_mode": {
    "name": "ipython",
    "version": 3
   },
   "file_extension": ".py",
   "mimetype": "text/x-python",
   "name": "python",
   "nbconvert_exporter": "python",
   "pygments_lexer": "ipython3",
   "version": "3.13.2"
  }
 },
 "nbformat": 4,
 "nbformat_minor": 2
}
